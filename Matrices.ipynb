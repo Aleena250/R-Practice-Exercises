{
 "cells": [
  {
   "cell_type": "markdown",
   "metadata": {},
   "source": [
    "# Matrices\n",
    "Matrices are the R objects in which the elements are arranged in a two-dimensional rectangular layout. They contain elements of the same atomic types. Though we can create a matrix containing only characters or only logical values, they are not of much use. We use matrices containing numeric elements to be used in mathematical calculations.\n",
    "\n",
    "## Creating Matrix\n",
    "A Matrix is created using the matrix() function.\n",
    "### Syntax\n",
    "matrix(data, nrow, ncol, byrow, dimnames)\n",
    "\n",
    "Following is the description of the parameters used :\n",
    "#### data\n",
    "is the input vector which becomes the data elements of the matrix.\n",
    "#### nrow \n",
    "is the number of rows to be created.\n",
    "#### ncol \n",
    "is the number of columns to be created.\n",
    "#### byrow \n",
    "is a logical clue. If TRUE then the input vector elements are arranged by row.\n",
    "#### dimname\n",
    "is the names assigned to the rows and columns.\n",
    "\n",
    "## Accessing Elements of a Matrix\n",
    "Elements of a matrix can be accessed by using the column and row index of the element. \n",
    "\n",
    "## Matrix Computations\n",
    "Various mathematical operations are performed on the matrices using the R operators. The result of the operation is also a matrix. The dimensions (number of rows and columns) should be same for the matrices involved in the operation.\n"
   ]
  },
  {
   "cell_type": "code",
   "execution_count": null,
   "metadata": {},
   "outputs": [],
   "source": [
    "## Creating Matrix M\n",
    "# Elements are arranged sequentially by row.\n",
    "M <- matrix(c(3:14), nrow = 4, byrow = TRUE)\n",
    "print(M)\n",
    "\n",
    "# Elements are arranged sequentially by column.\n",
    "N <- matrix(c(3:14), nrow = 4, byrow = FALSE)\n",
    "print(N)\n",
    "\n",
    "# Define the column and row names.\n",
    "rownames = c(\"row1\", \"row2\", \"row3\", \"row4\")\n",
    "colnames = c(\"col1\", \"col2\", \"col3\")\n",
    "\n",
    "P <- matrix(c(3:14), nrow = 4, byrow = TRUE, dimnames = list(rownames, colnames))\n",
    "print(P)"
   ]
  },
  {
   "cell_type": "code",
   "execution_count": null,
   "metadata": {},
   "outputs": [],
   "source": [
    "##Accessing Elements of a Matrix\n",
    "\n",
    "#We consider the matrix P above to find the specific elements below\n",
    "\n",
    "# Access the element at 3rd column and 1st row.\n",
    "print(P[1,3])\n",
    "\n",
    "# Access the element at 2nd column and 4th row.\n",
    "print(P[4,2])\n",
    "\n",
    "# Access only the  2nd row.\n",
    "print(P[2,])\n",
    "\n",
    "# Access only the 3rd column.\n",
    "print(P[,3])"
   ]
  },
  {
   "cell_type": "code",
   "execution_count": null,
   "metadata": {},
   "outputs": [],
   "source": [
    "## Manipulating Matrices\n",
    "\n",
    "#add or subtract\n",
    "# Create two 2x3 matrices.\n",
    "matrix1 <- matrix(c(3, 9, -1, 4, 2, 6), nrow = 2)\n",
    "print(matrix1)\n",
    "\n",
    "matrix2 <- matrix(c(5, 2, 0, 9, 3, 4), nrow = 2)\n",
    "print(matrix2)\n",
    "\n",
    "# Add the matrices.\n",
    "result <- matrix1 + matrix2\n",
    "cat(\"Result of addition\",\"\\n\")\n",
    "print(result)\n",
    "\n",
    "# Subtract the matrices\n",
    "result <- matrix1 - matrix2\n",
    "cat(\"Result of subtraction\",\"\\n\")\n",
    "print(result)\n",
    "\n",
    "#Now create two matrices with different dimensions and try to add or subtract them...."
   ]
  },
  {
   "cell_type": "code",
   "execution_count": null,
   "metadata": {},
   "outputs": [],
   "source": [
    "##Manipulating Matrices\n",
    "\n",
    "#multiplication or division\n",
    "\n",
    "# Create two 2x3 matrices.\n",
    "matrix1 <- matrix(c(3, 9, -1, 4, 2, 6), nrow = 2)\n",
    "print(matrix1)\n",
    "\n",
    "matrix2 <- matrix(c(5, 2, 0, 9, 3, 4), nrow = 2)\n",
    "print(matrix2)\n",
    "\n",
    "# Multiply the matrices.\n",
    "result <- matrix1 * matrix2\n",
    "cat(\"Result of multiplication\",\"\\n\")\n",
    "print(result)\n",
    "\n",
    "# Divide the matrices\n",
    "result <- matrix1 / matrix2\n",
    "cat(\"Result of division\",\"\\n\")\n",
    "print(result)"
   ]
  }
 ],
 "metadata": {
  "kernelspec": {
   "display_name": "R",
   "language": "R",
   "name": "ir"
  },
  "language_info": {
   "codemirror_mode": "r",
   "file_extension": ".r",
   "mimetype": "text/x-r-source",
   "name": "R",
   "pygments_lexer": "r",
   "version": "4.0.5"
  }
 },
 "nbformat": 4,
 "nbformat_minor": 4
}
