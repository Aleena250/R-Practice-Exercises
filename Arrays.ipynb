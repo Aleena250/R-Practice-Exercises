{
 "cells": [
  {
   "cell_type": "markdown",
   "metadata": {},
   "source": [
    "# Arrays\n",
    "Arrays are the R data objects which can store data in more than two dimensions. For example − If we create an array of dimension (2, 3, 4) then it creates 4 rectangular matrices each with 2 rows and 3 columns. Arrays can store only data type.\n",
    "\n",
    "## Creating  an Array\n",
    "An array is created using the array() function. It takes vectors as input and uses the values in the dim parameter to create an array.\n",
    "\n",
    "## Naming Columns and Rows\n",
    "We can give names to the rows, columns and matrices in the array by using the dimnames parameter.\n",
    "\n",
    "## Accessing Array Elements\n",
    "Elements of an array can be accessed by using the column and row and matrix index of the element.\n",
    "\n",
    "## Manipulating Array Elements\n",
    "As array is made up matrices in multiple dimensions, the operations on elements of array are carried out by accessing elements of the matrices.\n",
    "\n",
    "## Calculations Across Array Elements\n",
    "We can do calculations across the elements in an array using the apply() function.\n",
    "### Syntax\n",
    "apply(x, margin, fun)\n",
    "\n",
    "### Description\n",
    "Following is the description of the parameters used:\n",
    "\n",
    "#### x \n",
    "is an array.\n",
    "#### margin\n",
    "is the name of the data set used.\n",
    "#### fun \n",
    "is the function to be applied across the elements of the array.\n",
    "\n"
   ]
  },
  {
   "cell_type": "code",
   "execution_count": null,
   "metadata": {},
   "outputs": [],
   "source": [
    "## Creating array\n",
    "# Create two vectors of different lengths.\n",
    "vector1 <- c(5,9,3)\n",
    "vector2 <- c(10,11,12,13,14,15)\n",
    "\n",
    "# Take these vectors as input to the array.\n",
    "result <- array(c(vector1,vector2),dim = c(3,3,2))\n",
    "print(result)"
   ]
  },
  {
   "cell_type": "code",
   "execution_count": null,
   "metadata": {},
   "outputs": [],
   "source": [
    "## Naming array Elements\n",
    "\n",
    "# Create two vectors of different lengths.\n",
    "column.names <- c(\"COL1\",\"COL2\",\"COL3\")\n",
    "row.names <- c(\"ROW1\",\"ROW2\",\"ROW3\")\n",
    "matrix.names <- c(\"Matrix1\",\"Matrix2\")\n",
    "\n",
    "# Take these vectors as input to the array.\n",
    "result <- array(c(vector1,vector2),dim = c(3,3,2),dimnames = list(row.names,column.names,\n",
    "   matrix.names))\n",
    "print(result)"
   ]
  },
  {
   "cell_type": "code",
   "execution_count": null,
   "metadata": {},
   "outputs": [],
   "source": [
    "##Accessing Array Element\n",
    "\n",
    "# Print the third row of the second matrix of the array.\n",
    "print(result[3,,2])\n",
    "\n",
    "# Print the element in the 1st row and 3rd column of the 1st matrix.\n",
    "print(result[1,3,1])\n",
    "\n",
    "# Print the 2nd Matrix.\n",
    "print(result[,,2])"
   ]
  },
  {
   "cell_type": "code",
   "execution_count": null,
   "metadata": {},
   "outputs": [],
   "source": [
    "#Manipulating Two arrays\n",
    "\n",
    "# Create two vectors of different lengths.\n",
    "vector1 <- c(5,9,3)\n",
    "vector2 <- c(10,11,12,13,14,15)\n",
    "\n",
    "# Take these vectors as input to the array.\n",
    "array1 <- array(c(vector1,vector2),dim = c(3,3,2))\n",
    "\n",
    "# Create two vectors of different lengths.\n",
    "vector3 <- c(9,1,0)\n",
    "vector4 <- c(6,0,11,3,14,1,2,6,9)\n",
    "array2 <- array(c(vector1,vector2),dim = c(3,3,2))\n",
    "\n",
    "# create matrices from these arrays.\n",
    "matrix1 <- array1[,,2]\n",
    "matrix2 <- array2[,,2]\n",
    "\n",
    "# Add the matrices.\n",
    "result <- matrix1+matrix2\n",
    "print(result)"
   ]
  },
  {
   "cell_type": "code",
   "execution_count": null,
   "metadata": {},
   "outputs": [],
   "source": [
    "#Calculations Across Array Elements\n",
    "\n",
    "# Create two vectors of different lengths.\n",
    "vector1 <- c(5,9,3)\n",
    "vector2 <- c(10,11,12,13,14,15)\n",
    "\n",
    "# Take these vectors as input to the array.\n",
    "new.array <- array(c(vector1,vector2),dim = c(3,3,2))\n",
    "print(new.array)\n",
    "\n",
    "# Use apply to calculate the sum of the rows across all the matrices.\n",
    "result <- apply(new.array, c(1), sum)\n",
    "print(result)\n",
    "\n"
   ]
  }
 ],
 "metadata": {
  "kernelspec": {
   "display_name": "R",
   "language": "R",
   "name": "ir"
  },
  "language_info": {
   "codemirror_mode": "r",
   "file_extension": ".r",
   "mimetype": "text/x-r-source",
   "name": "R",
   "pygments_lexer": "r",
   "version": "4.0.5"
  }
 },
 "nbformat": 4,
 "nbformat_minor": 4
}
