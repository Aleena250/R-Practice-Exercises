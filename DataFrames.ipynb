{
 "cells": [
  {
   "cell_type": "raw",
   "metadata": {},
   "source": [
    "# Data Frames\n",
    " A data frame is a table or a two-dimensional array-like structure in which each column contains values of one variable and each row contains one set of values from each column.\n",
    " \n",
    "## Characteristics\n",
    "Following are the characteristics of a data frame.\n",
    "\n",
    "The column names should be non-empty.\n",
    "The row names should be unique.\n",
    "The data stored in a data frame can be of numeric, factor or character type.\n",
    "Each column should contain same number of data items.\n",
    "\n",
    "## Create Data Frame\n",
    "Data frame can be created using data.frame() function.\n",
    "\n",
    "## Structure of the Data Frame\n",
    "The structure of the data frame can be seen by using str() function.\n",
    "\n",
    "## Summary of Data in Data Frame\n",
    "The statistical summary and nature of the data can be obtained by applying summary() function.\n",
    "\n",
    "## Extract Data from Data Frame\n",
    "Extract specific column from a data frame using column name using a dollar sign .\n",
    "We can extract specific cell data using index notation.\n",
    "\n",
    "## Expand Data Frame\n",
    "A data frame can be expanded by adding columns and rows.\n",
    "\n",
    "### Add Column\n",
    "Just add the column vector using a new column name. We can add columns using cbind(), but the rows should be equal in new combined columns with the rows of data frame.\n",
    "\n",
    "### Add Row\n",
    "To add more rows permanently to an existing data frame, we need to bring in the new rows in the same structure as the existing data frame and use the rbind() function. But, the columns should be same in the new added rows.\n",
    "\n",
    "## Update Data Frame's Rows' and Columns' Name\n",
    "We can update dataframe's rows  using rownames() and columns using colnames()\n",
    "\n",
    "## Order Data Frame using Particular Column\n",
    "We can sort dataframe using particular column using order() function.\n",
    "By default, sorting is ASCENDING. Prepend the sorting variable by a minus sign to indicate DESCENDING order.\n",
    "\n",
    "\n"
   ]
  },
  {
   "cell_type": "code",
   "execution_count": null,
   "metadata": {},
   "outputs": [],
   "source": [
    "## Create the data frame.\n",
    "\n",
    "emp.data <- data.frame(\n",
    "   emp_id = c (1:5), \n",
    "   emp_name = c(\"Rick\",\"Dan\",\"Michelle\",\"Ryan\",\"Gary\"),\n",
    "   salary = c(623.3,515.2,611.0,729.0,843.25), \n",
    "   \n",
    "   start_date = as.Date(c(\"2012-01-01\", \"2013-09-23\", \"2014-11-15\", \"2014-05-11\",\n",
    "      \"2015-03-27\")),\n",
    "   stringsAsFactors = FALSE\n",
    ")\n",
    "# Print the data frame.\t\t\t\n",
    "print(emp.data)"
   ]
  },
  {
   "cell_type": "code",
   "execution_count": null,
   "metadata": {},
   "outputs": [],
   "source": [
    "# Get the structure of the data frame.\n",
    "str(emp.data)"
   ]
  },
  {
   "cell_type": "code",
   "execution_count": null,
   "metadata": {},
   "outputs": [],
   "source": [
    "# Print the summary.\n",
    "print(summary(emp.data))  "
   ]
  },
  {
   "cell_type": "code",
   "execution_count": null,
   "metadata": {},
   "outputs": [],
   "source": [
    "#Extract Data Frame\n",
    "\n",
    "# Extract Specific columns.\n",
    "result <- data.frame(emp.data$emp_name,emp.data$salary)\n",
    "print(result)\n",
    "\n",
    "# Extract first two rows.\n",
    "result <- emp.data[1:2,]\n",
    "print(result)\n",
    "\n",
    "# Extract 3rd and 5th row with 2nd and 4th column.\n",
    "result <- emp.data[c(3,5),c(2,4)]\n",
    "print(result)"
   ]
  },
  {
   "cell_type": "code",
   "execution_count": null,
   "metadata": {},
   "outputs": [],
   "source": [
    "#Expand data frame\n",
    "#Add column\n",
    "\n",
    "# Add the \"dept\" coulmn.\n",
    "emp.data$dept <- c(\"IT\",\"Operations\",\"IT\",\"HR\",\"Finance\")\n",
    "v <- emp.data\n",
    "print(v)\n",
    "\n",
    "#Add Rows\n",
    "# Create the first data frame.\n",
    "emp.data <- data.frame(\n",
    "   emp_id = c (1:5), \n",
    "   emp_name = c(\"Rick\",\"Dan\",\"Michelle\",\"Ryan\",\"Gary\"),\n",
    "   salary = c(623.3,515.2,611.0,729.0,843.25), \n",
    "   \n",
    "   start_date = as.Date(c(\"2012-01-01\", \"2013-09-23\", \"2014-11-15\", \"2014-05-11\",\n",
    "      \"2015-03-27\")),\n",
    "   dept = c(\"IT\",\"Operations\",\"IT\",\"HR\",\"Finance\"),\n",
    "   stringsAsFactors = FALSE\n",
    ")\n",
    "\n",
    "# Create the second data frame\n",
    "emp.newdata <- \tdata.frame(\n",
    "   emp_id = c (6:8), \n",
    "   emp_name = c(\"Rasmi\",\"Pranab\",\"Tusar\"),\n",
    "   salary = c(578.0,722.5,632.8), \n",
    "   start_date = as.Date(c(\"2013-05-21\",\"2013-07-30\",\"2014-06-17\")),\n",
    "   dept = c(\"IT\",\"Operations\",\"Fianance\"),\n",
    "   stringsAsFactors = FALSE\n",
    ")\n",
    "\n",
    "# Bind the two data frames.\n",
    "emp.finaldata <- rbind(emp.data,emp.newdata)\n",
    "print(emp.finaldata)"
   ]
  },
  {
   "cell_type": "code",
   "execution_count": null,
   "metadata": {},
   "outputs": [],
   "source": [
    "print(\"Original emp.finaldata dataframe:\")\n",
    "print(emp.finaldata)\n",
    "\n",
    "# reset column names of dataframe emp.finaldata \n",
    "colnames(emp.finaldata )<- c(\"ID\",\"Name\",\"Salary\",\"Start_Date\",\"Dept\")\n",
    "\n",
    "#reset row names of dataframe emp.finaldata \n",
    "#reset its row order\n",
    "rownames(emp.finaldata ) <- NULL\n",
    "\n",
    "print(\"Change colnames\")\n",
    "print(emp.finaldata )\n",
    "\n",
    "#You can pass new Row names as well\n",
    "rownames(emp.finaldata )<- c(paste0(\"Row\",1:8))\n",
    "print(\"Change rownames\")\n",
    "print(emp.finaldata )"
   ]
  },
  {
   "cell_type": "code",
   "execution_count": null,
   "metadata": {},
   "outputs": [],
   "source": [
    "## Order the Data frame using Salary Column\n",
    "#Ascending Order\n",
    "\n",
    "#The order function merely returns the indices of the rows in sorted order.\n",
    "print(order(emp.finaldata$Salary))\n",
    "\n",
    "#So what we're really doing with the command\n",
    "#Note the trailing comma; what this means is to take all the columns.\n",
    "#If we only wanted certain columns, we could specify after this comma.\n",
    "print(emp.finaldata[order(emp.finaldata$Salary),])\n",
    "\n",
    "#Descending Order\n",
    "# \"-\" used to order the data in desending order\n",
    "print(emp.finaldata[order(-emp.finaldata$Salary),])"
   ]
  },
  {
   "cell_type": "code",
   "execution_count": null,
   "metadata": {},
   "outputs": [],
   "source": []
  }
 ],
 "metadata": {
  "kernelspec": {
   "display_name": "R",
   "language": "R",
   "name": "ir"
  },
  "language_info": {
   "codemirror_mode": "r",
   "file_extension": ".r",
   "mimetype": "text/x-r-source",
   "name": "R",
   "pygments_lexer": "r",
   "version": "4.0.5"
  }
 },
 "nbformat": 4,
 "nbformat_minor": 4
}
