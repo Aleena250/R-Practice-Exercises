{
 "cells": [
  {
   "cell_type": "markdown",
   "metadata": {},
   "source": [
    "# Factors\n",
    "Factors are the data objects which are used to categorize the data and store it as levels. They can store both strings and integers. They are useful in the columns which have a limited number of unique values. Like \"Male, \"Female\" and True, False etc. They are useful in data analysis for statistical modeling.\n",
    "\n",
    "## Creating Factors\n",
    "Factors are created using the factor () function by taking a vector as input.\n",
    "\n",
    "## Factors in Data Frame\n",
    "On creating any data frame with a column of text data, R treats the text column as categorical data and creates factors on it.\n",
    "\n",
    "## Changing the Order of Levels\n",
    "The order of the levels in a factor can be changed by applying the factor function again with new order of the levels.\n",
    "\n",
    "## Generating Factor Levels\n",
    "We can generate factor levels by using the gl() function. It takes two integers as input which indicates how many levels and how many times each level.\n",
    "### Syntax\n",
    "gl(n, k, labels)\n",
    "### Description\n",
    "Following is the description of the parameters used:\n",
    "\"n\" is a integer giving the number of levels.\n",
    "\"k\" is a integer giving the number of replications.\n",
    "\"labels\" is a vector of labels for the resulting factor levels.\n"
   ]
  },
  {
   "cell_type": "code",
   "execution_count": null,
   "metadata": {},
   "outputs": [],
   "source": [
    "## creating Factor \n",
    "\n",
    "# Create a vector as input.\n",
    "data <- c(\"East\",\"West\",\"East\",\"North\",\"North\",\"East\",\"West\",\"West\",\"West\",\"East\",\"North\")\n",
    "\n",
    "print(data)\n",
    "print(is.factor(data))\n",
    "\n",
    "# Apply the factor function.\n",
    "factor_data <- factor(data)\n",
    "\n",
    "print(factor_data)\n",
    "print(is.factor(factor_data))"
   ]
  },
  {
   "cell_type": "code",
   "execution_count": null,
   "metadata": {},
   "outputs": [],
   "source": [
    "## Factors in Data Frame\n",
    "\n",
    "# Create the vectors for data frame.\n",
    "height <- c(132,151,162,139,166,147,122)\n",
    "weight <- c(48,49,66,53,67,52,40)\n",
    "gender <- c(\"male\",\"male\",\"female\",\"female\",\"male\",\"female\",\"male\")\n",
    "\n",
    "# Create the data frame.\n",
    "input_data <- data.frame(height,weight,gender)\n",
    "print(input_data)\n",
    "\n",
    "# Test if the gender column is a factor.\n",
    "print(is.factor(input_data$gender))\n",
    "\n",
    "# Print the gender column so see the levels.\n",
    "print(input_data$gender)"
   ]
  },
  {
   "cell_type": "code",
   "execution_count": null,
   "metadata": {},
   "outputs": [],
   "source": [
    "## Changing the Order of Levels\n",
    "\n",
    "data <- c(\"East\",\"West\",\"East\",\"North\",\"North\",\"East\",\"West\",\n",
    "   \"West\",\"West\",\"East\",\"North\")\n",
    "# Create the factors\n",
    "factor_data <- factor(data)\n",
    "print(factor_data)\n",
    "\n",
    "# Apply the factor function with required order of the level.\n",
    "new_order_data <- factor(factor_data,levels = c(\"East\",\"West\",\"North\"))\n",
    "print(new_order_data)"
   ]
  },
  {
   "cell_type": "code",
   "execution_count": null,
   "metadata": {},
   "outputs": [],
   "source": [
    "## Generating Factor Levels\n",
    "v <- gl(3, 4, labels = c(\"Tampa\", \"Seattle\",\"Boston\"))\n",
    "print(v)\n"
   ]
  }
 ],
 "metadata": {
  "kernelspec": {
   "display_name": "R",
   "language": "R",
   "name": "ir"
  },
  "language_info": {
   "codemirror_mode": "r",
   "file_extension": ".r",
   "mimetype": "text/x-r-source",
   "name": "R",
   "pygments_lexer": "r",
   "version": "4.0.5"
  }
 },
 "nbformat": 4,
 "nbformat_minor": 4
}
